{
 "cells": [
  {
   "cell_type": "code",
   "execution_count": 18,
   "metadata": {},
   "outputs": [],
   "source": [
    "import requests\n",
    "from bs4 import BeautifulSoup\n",
    "from Secrets import username, password\n",
    "import pandas as pd\n",
    "import numpy as np"
   ]
  },
  {
   "cell_type": "code",
   "execution_count": 59,
   "metadata": {},
   "outputs": [],
   "source": [
    "\n",
    "\n",
    "class FaceBookBot():\n",
    "    login_basic_url = 'https://mbasic.facebook.com/login'\n",
    "    login_mobile_url = 'https://m.facebook.com/login'\n",
    "    payload = {\n",
    "            'email': username,\n",
    "            'pass': password\n",
    "        }\n",
    "    post_ID = \"\"\n",
    "\n",
    "    def parse_html(self, request_url):\n",
    "        with requests.Session() as session:\n",
    "            post = session.post(self.login_basic_url, data=self.payload)\n",
    "            parsed_html = session.get(request_url)\n",
    "        return parsed_html\n",
    "\n",
    "    def post_content(self):\n",
    "        REQUEST_URL = f'https://mbasic.facebook.com/story.php?story_fbid={self.post_ID}&id=415518858611168'\n",
    "        #REQUEST_URL = \"https://www.facebook.com/groups/story_fbid={self.post_ID}\"\n",
    "        \n",
    "        soup = BeautifulSoup(self.parse_html(REQUEST_URL).content, \"html.parser\")\n",
    "        content = soup.find_all('p')\n",
    "        post_content = []\n",
    "        for lines in content:\n",
    "            post_content.append(lines.text)\n",
    "        \n",
    "        post_content = ' '.join(post_content)\n",
    "        print(post_content)\n",
    "        post = [post_content]\n",
    "        \n",
    "        data= {'post': post}\n",
    "        df2 = pd.DataFrame(data)\n",
    "        df2.to_csv(\"file1.csv\", mode='a', encoding='utf-8-sig', header=False)\n",
    "        \n",
    "        return post_content\n",
    "\n",
    "    def date_posted(self):\n",
    "        REQUEST_URL = f'https://mbasic.facebook.com/story.php?story_fbid={self.post_ID}&id=415518858611168'\n",
    "        \n",
    "        soup = BeautifulSoup(self.parse_html(REQUEST_URL).content, \"html.parser\")\n",
    "        date_posted = soup.find('abbr')\n",
    "        return date_posted.text\n",
    "\n",
    "   \n",
    "\n"
   ]
  },
  {
   "cell_type": "code",
   "execution_count": 60,
   "metadata": {},
   "outputs": [],
   "source": [
    "bot = FaceBookBot()"
   ]
  },
  {
   "cell_type": "code",
   "execution_count": 61,
   "metadata": {},
   "outputs": [],
   "source": [
    "bot.post_ID = \"3720577414697559\""
   ]
  },
  {
   "cell_type": "code",
   "execution_count": 62,
   "metadata": {},
   "outputs": [
    {
     "name": "stdout",
     "output_type": "stream",
     "text": [
      "#তেজপাতা  #chocolateday  #part3  -কিটক্যাট কেনার টাকা আছে। বাস ভাড়া বাঁচিয়ে ফেলে কাজের কার করেছি। এই না হলে আমি যেমন ভাবা তেমন কাজ। যাই ওর বাড়ি গিয়ে এটা দিয়ে বলি যে আমি ওকে..বলে দেবো? নাকি একটু অন্য ভাবে বলবো? ধুর আগে যাই তো গিয়ে দেখবো।   - গাধাটা আজকে আসবে হয়তো। ইন্টারভিউ- এর চাপে ভুলে গিয়েছিল বোধহয়। আসুক একবার খুব ঝগড়া করবো। 😡 কিন্ত...  আজকে যদি বলে ও আমি কি সোজা হ্যাঁ বলে দেবো? ধুর আবার এক চিন্তা.. দরজায় কে এলো? আজকে আসলো তার মানে শেষমেশ। তুমি?   - কপাল আমার বরাবরই খারাপ আমার। ভাবলাম আজকে ওকে মনের কথাটা বলে দেবো, কিন্ত ও তো অন্য কাউকে ভালোবাসে.. বাড়ি যাই।   আগের পর্বের লিংক - https://www.facebook.com/1619826468106008/posts/3718011911620776/  গল্প- ঋজু আঁকা - লুৎফা It is released now..  \"Preme Porleo Porte Pari\" in the season of love. ❤️❤️   Watch the full video at - https://youtu.be/-dQXdiTa2DY 14th February - Valentine's day.. ❤️ ভালোবাসার দিনে ভালোবাসার অন্য রকম উজ্জাপন।  আমরা পৌঁছে গিয়েছিলাম নৈহাতির মুক্তধারা অনাথ আশ্রমে। ইচ্ছে ছিলো একটা অন্য রকম ভালোবাসার দিবস পালন করার এবং আমরা সফল।   এই আশ্রমে থাকে প্রায় 35 জন মেয়ে যারা ভীষন গুণী। ওদের করা একটি নৃত্যের ছবি থাকলো।এই মিষ্টি মিষ্টি মেয়েগুলো যেমন পড়াশুনায় ভালো তেমনি আবৃতি এবং নৃত্যেও। আমরা ওদের হাতে কিছু প্রয়োজনিও দ্রব্য যেমন মাস্ক, খাতা, পেন, পেন্সিল, ফল ইত্যাদি তুলে দিয়েছি এবং ওদের সাথে একইসাথে খুব আনন্দের সাথে দুপুরের আহার করেছি। সারাদিনটা অন্য বাকি দিনের চেয়ে সুন্দর কেটেছে।  আপনারাও একদিন ঘুরে আসতে পারেন। ভালোবাসার সাথে কয়েকটা মানুষকে হাসি উপহার দেওয়া গেলে জীবনে আর কিছু লাগেনা বোধহয়।   Bang Bang Bangalore (B3 🤘)  এবং বাকি যারা এগিয়ে এসেছিলেন এবং পাশে থেকে সাহায্য করেছেন তাদের আন্তরিক ভাবে ধন্যবাদ এবং আমরা ঋণী থাকবো আপনাদের কাছে। So here comes the TEASER of #Preme_Porleo_Porte_Pari ❤️ Releasing on 19th feb on Below You-Tube Channel ☺️ . Channel Link : https://www.youtube.com/c/ArchismanChowdhury/ Teaser Link : https://youtu.be/g-Gks9p4Wd8 . New Independent Music ☺️  Lyrics : Somraj Srd Das Composition : Archisman Chowdhury  Vocal : Abritte Talukdar  & Archisman Chowdhury  Music arrangement : Vivek Praveen Videography and editing : Sujit Dutta  Stay tuned..  Witness the season of love with #Preme_Porleo_Porte_Pari ❤️.\n"
     ]
    }
   ],
   "source": [
    "d = bot.post_content()"
   ]
  },
  {
   "cell_type": "code",
   "execution_count": null,
   "metadata": {},
   "outputs": [],
   "source": []
  }
 ],
 "metadata": {
  "kernelspec": {
   "display_name": "Python 3",
   "language": "python",
   "name": "python3"
  },
  "language_info": {
   "codemirror_mode": {
    "name": "ipython",
    "version": 3
   },
   "file_extension": ".py",
   "mimetype": "text/x-python",
   "name": "python",
   "nbconvert_exporter": "python",
   "pygments_lexer": "ipython3",
   "version": "3.8.3"
  }
 },
 "nbformat": 4,
 "nbformat_minor": 4
}
