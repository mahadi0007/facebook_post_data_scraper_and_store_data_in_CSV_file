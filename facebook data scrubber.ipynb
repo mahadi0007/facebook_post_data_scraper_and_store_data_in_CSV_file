{
 "cells": [
  {
   "cell_type": "code",
   "execution_count": 63,
   "metadata": {},
   "outputs": [],
   "source": [
    "import requests\n",
    "from bs4 import BeautifulSoup\n",
    "from Secrets import username, password\n",
    "import pandas as pd\n",
    "import numpy as np"
   ]
  },
  {
   "cell_type": "code",
   "execution_count": 64,
   "metadata": {},
   "outputs": [],
   "source": [
    "\n",
    "\n",
    "class FaceBookBot():\n",
    "    login_basic_url = 'https://mbasic.facebook.com/login'\n",
    "    login_mobile_url = 'https://m.facebook.com/login'\n",
    "    payload = {\n",
    "            'email': username,\n",
    "            'pass': password\n",
    "        }\n",
    "    post_ID = \"\"\n",
    "\n",
    "    def parse_html(self, request_url):\n",
    "        with requests.Session() as session:\n",
    "            post = session.post(self.login_basic_url, data=self.payload)\n",
    "            parsed_html = session.get(request_url)\n",
    "        return parsed_html\n",
    "\n",
    "    def post_content(self):\n",
    "        REQUEST_URL = f'https://mbasic.facebook.com/story.php?story_fbid={self.post_ID}&id=415518858611168'\n",
    "        #REQUEST_URL = \"https://www.facebook.com/groups/story_fbid={self.post_ID}\"\n",
    "        \n",
    "        soup = BeautifulSoup(self.parse_html(REQUEST_URL).content, \"html.parser\")\n",
    "        content = soup.find_all('p')\n",
    "        post_content = []\n",
    "        for lines in content:\n",
    "            post_content.append(lines.text)\n",
    "        \n",
    "        post_content = ' '.join(post_content)\n",
    "        print(post_content)\n",
    "        post = [post_content]\n",
    "        \n",
    "        data= {'post': post}\n",
    "        df2 = pd.DataFrame(data)\n",
    "        df2.to_csv(\"file1.csv\", mode='a', encoding='utf-8-sig', header=False)\n",
    "        \n",
    "        return post_content\n",
    "\n",
    "    def date_posted(self):\n",
    "        REQUEST_URL = f'https://mbasic.facebook.com/story.php?story_fbid={self.post_ID}&id=415518858611168'\n",
    "        \n",
    "        soup = BeautifulSoup(self.parse_html(REQUEST_URL).content, \"html.parser\")\n",
    "        date_posted = soup.find('abbr')\n",
    "        return date_posted.text\n",
    "\n",
    "   \n",
    "\n"
   ]
  },
  {
   "cell_type": "code",
   "execution_count": 65,
   "metadata": {},
   "outputs": [],
   "source": [
    "bot = FaceBookBot()"
   ]
  },
  {
   "cell_type": "code",
   "execution_count": 68,
   "metadata": {},
   "outputs": [],
   "source": [
    "bot.post_ID = \"1782604085240247\""
   ]
  },
  {
   "cell_type": "code",
   "execution_count": 70,
   "metadata": {},
   "outputs": [
    {
     "name": "stdout",
     "output_type": "stream",
     "text": [
      "Are you happy in your relationship? Most of the people are not.   There can be many different problems in a relationship but one of the problem that one doesn’t think about is the problem one has with self.   People who are angry, upset and unhappy are the ones who bring nothing but sadness in a relationship. They try to find fault in others, blame others and become abusive because they themselves are unable to accept their own mistakes and failures in life. It is their way to vent out their fear and hide their in capabilities.   People who are happy with themselves become calm because instead of finding problems, they look at solution. They look at the best side of other person instead of finding reasons to blame.  Be happy in your self, you will build happy relationships and if you are with a person who is a narcissist, you know they are unhappy with themselves.  Dr Bhawna Gautam   #relationship #self #acceptance #love #happy #build #people #life #heart Do you have people in your life you can always look up to? If yes, you are truly blessed to have true people in your life.  Real people take a stand in every situation of life. When we go through a challenging time, those who support us are our real well wishers.  Difficult time comes in everyone’s life. However long this time may seem, it surely ends. We must keep our trust and have faith that no situation is permanent. Tough times also tell us a lot about people around us. The ones who truly care for you will never leave you and will support you in every possible way to make you feel at ease.  Don’t be discouraged by tough time, it is meant to end. If you know that your loved one is going through a difficult phase, offer them your support. Being real is all about being true to yourself and being true to others.  Dr Bhawna Gautam  #people #who #care #stay #together #relationship #truthful #real #connection Have you ever though how some people are always motivated? They don't always seek inspiration from outside, they use their dreams as an inspiration to keep going.  Our dreams are like seeds sown by our mind. When we sow a seed, it is the soil we plant it that helps it to grow. We need to nourish it with water and nutrients but without the firm grip in the soil, a tree can never be formed. Our dreams are like that too. At times, we might need support from our loved ones but unless we find the inspiration within us, we also cannot grow.   Actually the inspiration for our dreams is always within us that is the reason we turned those thoughts into our dreams but as we go along following our dreams, at times we get so discouraged that we look for inspiration around us.It is good to be inspired by others because it can reassure that you can also achieve like them but you need to follow your inner inspiration to keep you going.  Be inspired but don't forget the real inspiration for your dreams in within you. The times when you feel discouraged, think of the reason you wanted to achieve, you will find the speak of inspiration igniting within.  Dr Bhawna Gautam  #inspiration #seeds #soil #dreams #staymotivated #success #achieve #believe #support #wisdom Do you feel like telling your emotional story to the whole world, choose carefully who you want to share with.  Sharing our emotions makes our heart feel light.  When the emotions are shared with the right person, it can help us to heal but if we open our heart in front of everyone, it can leave us even more wounded.   When we are going through a broken phase in life, at times  we feel like sharing our story with everyone. Most of the people want to know your story because it gives them a feeling of perfection in their life. They like to feel pity on you rather than feeling empathetic. Only very few of your loved ones really understand your pain and truly want you to heal.  If you are wounded, keep it to yourself and open up only to those who really care. Showing your wound to everyone will only delay its healing.  Dr Bhawna Gautam  #wound #heal #support #emotions #story #life #rightPeople #thosewhounderstand #feelforyou\n"
     ]
    }
   ],
   "source": [
    "d = bot.post_content()"
   ]
  },
  {
   "cell_type": "code",
   "execution_count": null,
   "metadata": {},
   "outputs": [],
   "source": []
  }
 ],
 "metadata": {
  "kernelspec": {
   "display_name": "Python 3",
   "language": "python",
   "name": "python3"
  },
  "language_info": {
   "codemirror_mode": {
    "name": "ipython",
    "version": 3
   },
   "file_extension": ".py",
   "mimetype": "text/x-python",
   "name": "python",
   "nbconvert_exporter": "python",
   "pygments_lexer": "ipython3",
   "version": "3.8.3"
  }
 },
 "nbformat": 4,
 "nbformat_minor": 4
}
